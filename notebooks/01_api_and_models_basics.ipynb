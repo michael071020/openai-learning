{
 "cells": [
  {
   "cell_type": "markdown",
   "id": "41a0f9b4",
   "metadata": {},
   "source": [
    "# Import"
   ]
  },
  {
   "cell_type": "code",
   "execution_count": 19,
   "id": "c2c0e2da",
   "metadata": {},
   "outputs": [],
   "source": [
    "from openai import OpenAI\n",
    "from dotenv import load_dotenv\n",
    "import os\n",
    "\n",
    "import tiktoken"
   ]
  },
  {
   "cell_type": "markdown",
   "id": "d6de56f0",
   "metadata": {},
   "source": [
    "# Initialize client"
   ]
  },
  {
   "cell_type": "code",
   "execution_count": 2,
   "id": "8d6445b6",
   "metadata": {},
   "outputs": [],
   "source": [
    "# Setting client\n",
    "load_dotenv()\n",
    "client = OpenAI(api_key=os.getenv(\"OPENAI_API_KEY\"))\n",
    "\n",
    "DEFAULT_MODEL = os.getenv(\"DEFAULT_MODEL\", \"gpt-4o-mini\")\n",
    "MAX_COMPLETION_TOKENS = int(os.getenv(\"MAX_COMPLETION_TOKENS\", \"256\"))"
   ]
  },
  {
   "cell_type": "markdown",
   "id": "3c7a54e6",
   "metadata": {},
   "source": [
    "# First Call: Hello World"
   ]
  },
  {
   "cell_type": "code",
   "execution_count": 12,
   "id": "d6a4c2c9",
   "metadata": {},
   "outputs": [
    {
     "name": "stdout",
     "output_type": "stream",
     "text": [
      "OpenAI API 是一個基於人工智慧模型的應用程式介面，讓開發者能夠輕鬆地集成自然語言處理和生成能力到他們的應用中。\n"
     ]
    }
   ],
   "source": [
    "response = client.chat.completions.create(\n",
    "    model=DEFAULT_MODEL,\n",
    "    messages=[\n",
    "        {\"role\": \"system\", \"content\": \"You are a helpful assistant.\"},\n",
    "        {\"role\": \"user\", \"content\": \"請用一句話介紹什麼是OpenAI API。\"}\n",
    "    ],\n",
    "    max_completion_tokens=MAX_COMPLETION_TOKENS\n",
    ")\n",
    "\n",
    "print(response.choices[0].message.content)"
   ]
  },
  {
   "cell_type": "code",
   "execution_count": 13,
   "id": "5cbca5a5",
   "metadata": {},
   "outputs": [
    {
     "data": {
      "text/plain": [
       "'gpt-4o-mini-2024-07-18'"
      ]
     },
     "execution_count": 13,
     "metadata": {},
     "output_type": "execute_result"
    }
   ],
   "source": [
    "# Model\n",
    "response.model"
   ]
  },
  {
   "cell_type": "code",
   "execution_count": 14,
   "id": "04973ecb",
   "metadata": {},
   "outputs": [
    {
     "data": {
      "text/plain": [
       "CompletionUsage(completion_tokens=49, prompt_tokens=29, total_tokens=78, completion_tokens_details=CompletionTokensDetails(accepted_prediction_tokens=0, audio_tokens=0, reasoning_tokens=0, rejected_prediction_tokens=0), prompt_tokens_details=PromptTokensDetails(audio_tokens=0, cached_tokens=0))"
      ]
     },
     "execution_count": 14,
     "metadata": {},
     "output_type": "execute_result"
    }
   ],
   "source": [
    "# Tokens\n",
    "response.usage"
   ]
  },
  {
   "cell_type": "code",
   "execution_count": 16,
   "id": "a15c6674",
   "metadata": {},
   "outputs": [
    {
     "data": {
      "text/plain": [
       "[Choice(finish_reason='stop', index=0, logprobs=None, message=ChatCompletionMessage(content='OpenAI API 是一個基於人工智慧模型的應用程式介面，讓開發者能夠輕鬆地集成自然語言處理和生成能力到他們的應用中。', refusal=None, role='assistant', annotations=[], audio=None, function_call=None, tool_calls=None))]"
      ]
     },
     "execution_count": 16,
     "metadata": {},
     "output_type": "execute_result"
    }
   ],
   "source": [
    "response.choices"
   ]
  },
  {
   "cell_type": "markdown",
   "id": "3b0267bf",
   "metadata": {},
   "source": [
    "# Effect of different system prompts"
   ]
  },
  {
   "cell_type": "code",
   "execution_count": 8,
   "id": "d112edd0",
   "metadata": {},
   "outputs": [
    {
     "name": "stdout",
     "output_type": "stream",
     "text": [
      "\n",
      "[System Style: 你是一位非常專業的AI工程師，回答時只著重於事實。]\n",
      "Token 是一種數據單位，常用於加密貨幣和區塊鏈技術中，代表某種資產或權利。\n",
      "\n",
      "[System Style: 你是一位大學資工系老師，回答時要舉例。]\n",
      "Token 是一個代表某種資源或權限的數位單位，通常在加密貨幣、區塊鏈或API認證中被使用。例如，以太坊上的 ERC-20 代幣就是一種符合特定標準的數位資產。\n",
      "\n",
      "[System Style: 你是一位剛學習AI的初學者，回答時只會用簡單中文。]\n",
      "Token 是文字或符號的基本單位，用來表示信息。\n"
     ]
    }
   ],
   "source": [
    "system_styles = [\n",
    "    \"你是一位非常專業的AI工程師，回答時只著重於事實。\",\n",
    "    \"你是一位大學資工系老師，回答時要舉例。\",\n",
    "    \"你是一位剛學習AI的初學者，回答時只會用簡單中文。\"\n",
    "]\n",
    "\n",
    "for style in system_styles:\n",
    "    response = client.chat.completions.create(\n",
    "        model=DEFAULT_MODEL,\n",
    "        messages=[\n",
    "            {\"role\": \"system\", \"content\": style},\n",
    "            {\"role\": \"user\", \"content\": \"請用一句話解釋什麼是 token。\"}\n",
    "        ],\n",
    "        max_completion_tokens=MAX_COMPLETION_TOKENS\n",
    "    )\n",
    "    print(f\"\\n[System Style: {style}]\\n{response.choices[0].message.content}\")\n"
   ]
  },
  {
   "cell_type": "markdown",
   "id": "42dfdea1",
   "metadata": {},
   "source": [
    "# 3 Different Basic Missions"
   ]
  },
  {
   "cell_type": "markdown",
   "id": "b88b589b",
   "metadata": {},
   "source": [
    "## Summarization"
   ]
  },
  {
   "cell_type": "code",
   "execution_count": 9,
   "id": "0e82df27",
   "metadata": {},
   "outputs": [
    {
     "name": "stdout",
     "output_type": "stream",
     "text": [
      "【摘要結果】\n",
      " OpenAI API 透過簡單的 HTTP 請求讓開發者使用GPT、DALL·E和Whisper等模型進行文字、程式碼、圖像和語音轉換，並可藉由設定參數來調整模型的輸出。\n"
     ]
    }
   ],
   "source": [
    "text = \"\"\"\n",
    "OpenAI API 允許開發者以簡單的 HTTP 請求方式，使用 GPT、DALL·E、Whisper 等模型。\n",
    "這些模型可用於生成文字、程式碼、圖像與語音轉換。\n",
    "使用者可藉由設定 prompt、temperature 與 token 數，控制模型的行為與輸出內容。\n",
    "\"\"\"\n",
    "\n",
    "response = client.chat.completions.create(\n",
    "    model=DEFAULT_MODEL,\n",
    "    messages=[\n",
    "        {\"role\": \"system\", \"content\": \"你是一位摘要助理，擅長將文章濃縮成一句話。\"},\n",
    "        {\"role\": \"user\", \"content\": f\"請幫我摘要以下段落：\\n{text}\"}\n",
    "    ],\n",
    "    max_completion_tokens=MAX_COMPLETION_TOKENS\n",
    ")\n",
    "\n",
    "print(\"【摘要結果】\\n\", response.choices[0].message.content)"
   ]
  },
  {
   "cell_type": "markdown",
   "id": "766c29f9",
   "metadata": {},
   "source": [
    "## Translation"
   ]
  },
  {
   "cell_type": "code",
   "execution_count": 10,
   "id": "d377ab4a",
   "metadata": {},
   "outputs": [
    {
     "name": "stdout",
     "output_type": "stream",
     "text": [
      "【翻譯結果】\n",
      " I am learning how to use the OpenAI API.\n"
     ]
    }
   ],
   "source": [
    "response = client.chat.completions.create(\n",
    "    model=DEFAULT_MODEL,\n",
    "    messages=[\n",
    "        {\"role\": \"system\", \"content\": \"你是一位專業的中英翻譯員。\"},\n",
    "        {\"role\": \"user\", \"content\": \"請將以下文字翻譯成英文：我正在學習如何使用 OpenAI API。\"}\n",
    "    ],\n",
    "    max_completion_tokens=MAX_COMPLETION_TOKENS\n",
    ")\n",
    "\n",
    "print(\"【翻譯結果】\\n\", response.choices[0].message.content)\n"
   ]
  },
  {
   "cell_type": "markdown",
   "id": "e24f37aa",
   "metadata": {},
   "source": [
    "## Code Explanation"
   ]
  },
  {
   "cell_type": "code",
   "execution_count": 17,
   "id": "77ba4078",
   "metadata": {},
   "outputs": [
    {
     "name": "stdout",
     "output_type": "stream",
     "text": [
      "【程式說明】\n",
      " 當然可以！這段程式碼定義了一個名為 `add_numbers` 的函式，它的目的是將兩個數字相加並返回結果。讓我們逐行分析這個程式碼：\n",
      "\n",
      "```python\n",
      "def add_numbers(a, b):\n",
      "```\n",
      "- `def` 是 Python 中用來定義函式的關鍵字。接下來是函式的名稱 `add_numbers`，這是一個自定義的名稱，可以與其他程式碼互動。\n",
      "- `(a, b)` 是函式的參數列表。在這裡，`a` 和 `b` 是函式的兩個參數，當這個函式被呼叫時，可以傳入任意的數值（整數、浮點數等）來進行運算。\n",
      "\n",
      "接下來的這一行是函式的返回值：\n",
      "\n",
      "```python\n",
      "    return a + b\n",
      "```\n",
      "- `return` 是關鍵字，用來結束函式並返回某個值。在這裡它返回的是 `a + b` 的結果，也就是將兩個傳入的數字相加。\n",
      "- `a + b` 會計算 `\n"
     ]
    }
   ],
   "source": [
    "code_snippet = \"\"\"\n",
    "def add_numbers(a, b):\n",
    "    return a + b\n",
    "\"\"\"\n",
    "\n",
    "response = client.chat.completions.create(\n",
    "    model=DEFAULT_MODEL,\n",
    "    messages=[\n",
    "        {\"role\": \"system\", \"content\": \"你是一位 Python 導師，會清楚地解釋程式碼邏輯。\"},\n",
    "        {\"role\": \"user\", \"content\": f\"請幫我解釋以下程式碼：\\n{code_snippet}\"}\n",
    "    ],\n",
    "    max_completion_tokens=MAX_COMPLETION_TOKENS\n",
    ")\n",
    "\n",
    "print(\"【程式說明】\\n\", response.choices[0].message.content)"
   ]
  },
  {
   "cell_type": "code",
   "execution_count": 18,
   "id": "eb771384",
   "metadata": {},
   "outputs": [
    {
     "data": {
      "text/plain": [
       "CompletionUsage(completion_tokens=256, prompt_tokens=58, total_tokens=314, completion_tokens_details=CompletionTokensDetails(accepted_prediction_tokens=0, audio_tokens=0, reasoning_tokens=0, rejected_prediction_tokens=0), prompt_tokens_details=PromptTokensDetails(audio_tokens=0, cached_tokens=0))"
      ]
     },
     "execution_count": 18,
     "metadata": {},
     "output_type": "execute_result"
    }
   ],
   "source": [
    "response.usage"
   ]
  },
  {
   "cell_type": "markdown",
   "id": "ce16db1a",
   "metadata": {},
   "source": [
    "# Use `tiktoken` to calculate number of tokens"
   ]
  },
  {
   "cell_type": "code",
   "execution_count": 20,
   "id": "02ed44b4",
   "metadata": {},
   "outputs": [],
   "source": [
    "def count_tokens(text: str, model: str = DEFAULT_MODEL):\n",
    "    enc = tiktoken.encoding_for_model(model)\n",
    "    return len(enc.encode(text))"
   ]
  },
  {
   "cell_type": "code",
   "execution_count": 21,
   "id": "5649bf69",
   "metadata": {},
   "outputs": [
    {
     "name": "stdout",
     "output_type": "stream",
     "text": [
      "Token 數量： 18\n"
     ]
    }
   ],
   "source": [
    "sample_text = \"OpenAI API 可以幫助開發者快速整合大語言模型。\"\n",
    "print(\"Token 數量：\", count_tokens(sample_text))"
   ]
  }
 ],
 "metadata": {
  "kernelspec": {
   "display_name": "base",
   "language": "python",
   "name": "python3"
  },
  "language_info": {
   "codemirror_mode": {
    "name": "ipython",
    "version": 3
   },
   "file_extension": ".py",
   "mimetype": "text/x-python",
   "name": "python",
   "nbconvert_exporter": "python",
   "pygments_lexer": "ipython3",
   "version": "3.12.4"
  }
 },
 "nbformat": 4,
 "nbformat_minor": 5
}
